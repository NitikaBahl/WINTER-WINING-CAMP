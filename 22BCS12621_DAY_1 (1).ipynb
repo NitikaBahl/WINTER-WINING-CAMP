{
  "nbformat": 4,
  "nbformat_minor": 0,
  "metadata": {
    "colab": {
      "provenance": []
    },
    "kernelspec": {
      "name": "python3",
      "display_name": "Python 3"
    },
    "language_info": {
      "name": "python"
    }
  },
  "cells": [
    {
      "cell_type": "markdown",
      "source": [
        "# WINTER WINING CAMP\n",
        "##   DAY 1\n",
        "##SUM OF FIRST N NATURAL NUMBERS"
      ],
      "metadata": {
        "id": "pUssDZ_g6_M_"
      }
    },
    {
      "cell_type": "code",
      "source": [
        "if __name__ == \"__main__\":\n",
        "    n = int(input(\"Enter a number: \"))\n",
        "    sum=0\n",
        "    for i in range(1, n+1):\n",
        "        sum += i\n",
        "    print(\"Sum of natural numbers up to {} is: {}\".format(n, sum))"
      ],
      "metadata": {
        "id": "vRH9fJwj68Ee"
      },
      "execution_count": null,
      "outputs": []
    },
    {
      "cell_type": "markdown",
      "source": [
        "##PRIME OR NON PRIME NUMBERS"
      ],
      "metadata": {
        "id": "CURUlNWU679C"
      }
    },
    {
      "cell_type": "code",
      "source": [
        "def prime_num(n):\n",
        "    if n <= 1:\n",
        "        return False\n",
        "    if n <= 3:\n",
        "        return True\n",
        "    if n % 2 == 0 or n % 3 == 0:\n",
        "        return False\n",
        "    for i in range(5, int(n ** 0.5) + 1, 6):\n",
        "        if n % i == 0 or n % (i + 2) == 0:\n",
        "            return False\n",
        "    return True\n",
        "\n",
        "\n",
        "if __name__ == \"__main__\":\n",
        "    n = int(input(\"Enter a number: \"))\n",
        "    result = prime_num(n)\n",
        "    print(f\"The number {n} is {'a prime number' if result else 'not a prime number'}.\")"
      ],
      "metadata": {
        "id": "MBx0yC3S672B"
      },
      "execution_count": null,
      "outputs": []
    },
    {
      "cell_type": "markdown",
      "source": [
        "##SUM OF ODD NATURAL NUMBERS UPTO N\n"
      ],
      "metadata": {
        "id": "p2rwiY0567ul"
      }
    },
    {
      "cell_type": "code",
      "source": [
        "def odd_sum(n):\n",
        "    sum = 0\n",
        "    if n % 2 != 0:\n",
        "        for i in range(1, n + 1, 2):\n",
        "            sum += i\n",
        "        print(\"Sum of odd natural numbers up to {} is: {}\".format(n, sum))\n",
        "    else:\n",
        "        print(\"{} is not an odd number. Please enter an odd number.\".format(n))\n",
        "\n",
        "if __name__ == \"__main__\":\n",
        "    n = int(input(\"Enter a number: \"))\n",
        "    result = odd_sum(n)"
      ],
      "metadata": {
        "id": "Y_-7q51W67lj"
      },
      "execution_count": null,
      "outputs": []
    },
    {
      "cell_type": "markdown",
      "source": [
        "##LENGTH OF A NUMBER"
      ],
      "metadata": {
        "id": "NBU2OE8R67ce"
      }
    },
    {
      "cell_type": "code",
      "source": [
        "if __name__ == \"__main__\":\n",
        "    n = int(input(\"Enter a number: \"))\n",
        "    count = 0\n",
        "    num = abs(n)\n",
        "\n",
        "    while num > 0:\n",
        "        num //= 10\n",
        "        count += 1\n",
        "\n",
        "    print(\"The length of the number is:\", count)"
      ],
      "metadata": {
        "id": "tuVDNCep66_y"
      },
      "execution_count": null,
      "outputs": []
    },
    {
      "cell_type": "markdown",
      "source": [
        "##REVERSE A NUMBER"
      ],
      "metadata": {
        "id": "GOm8uolv66vs"
      }
    },
    {
      "cell_type": "code",
      "source": [
        "def reverse(n):\n",
        "    rev=0\n",
        "    while n>0:\n",
        "        rem=n%10\n",
        "        rev=rev*10+rem\n",
        "        n=n//10\n",
        "    return rev\n",
        "\n",
        "if __name__==\"__main__\":\n",
        "    n=int(input(\"enter a number: \"))\n",
        "    result=reverse(n)\n",
        "    print(result)"
      ],
      "metadata": {
        "colab": {
          "base_uri": "https://localhost:8080/"
        },
        "id": "CmBORs-bXM33",
        "outputId": "ea14ab17-d52a-479f-add5-10f4cfd04e5f"
      },
      "execution_count": null,
      "outputs": [
        {
          "output_type": "stream",
          "name": "stdout",
          "text": [
            "enter a number: 7593\n",
            "3957\n"
          ]
        }
      ]
    },
    {
      "cell_type": "markdown",
      "source": [
        "##AREA OF DIFFFERENT SHAPES"
      ],
      "metadata": {
        "id": "XVzDsbfd7e4d"
      }
    },
    {
      "cell_type": "code",
      "source": [
        "class Calculate:\n",
        "    def __init__(self):\n",
        "        self.result = None\n",
        "\n",
        "    def circle_area(self, radius):\n",
        "        self.result = 3.14 * (radius ** 2)\n",
        "        return self.result\n",
        "\n",
        "    def rectangle_area(self, length, breadth):\n",
        "        self.result = length * breadth\n",
        "        return self.result\n",
        "\n",
        "    def triangle_area(self, base, height):\n",
        "        self.result = 0.5 * base * height\n",
        "        return self.result\n",
        "\n",
        "if __name__ == \"__main__\":\n",
        "    calc = Calculate()\n",
        "    print(\"Circle Area:\", calc.circle_area(5))\n",
        "    print(\"Rectangle Area:\", calc.rectangle_area(10, 20))\n",
        "    print(\"Triangle Area:\", calc.triangle_area(5, 10))"
      ],
      "metadata": {
        "id": "4aESUEz1XZou"
      },
      "execution_count": null,
      "outputs": []
    },
    {
      "cell_type": "markdown",
      "source": [
        "## Banking"
      ],
      "metadata": {
        "id": "dahBddtrNkVt"
      }
    },
    {
      "cell_type": "code",
      "source": [
        "class Account:\n",
        "    def __init__(self, balance):\n",
        "        self.balance = balance\n",
        "\n",
        "    def calculate_interest(self):\n",
        "        raise NotImplementedError(\"Subclasses must implement the calculate_interest method\")\n",
        "\n",
        "\n",
        "class SavingsAccount(Account):\n",
        "    def calculate_interest(self):\n",
        "        rate = float(input(\"Enter the rate of interest (as percentage): \"))\n",
        "        time = float(input(\"Enter the time (in years): \"))\n",
        "        interest = (self.balance * rate * time) / 100\n",
        "        return f\"Savings Account Interest: {interest}\"\n",
        "\n",
        "\n",
        "class CurrentAccount(Account):\n",
        "    def calculate_interest(self):\n",
        "        fee = float(input(\"Enter maintenance fee: \"))\n",
        "        self.balance -= fee\n",
        "        return f\"Balance after fee deduction: {self.balance}\"\n",
        "\n",
        "\n",
        "if __name__ == \"__main__\":\n",
        "    balance = int(input(\"Enter the balance: \"))\n",
        "    acc = input(\"Enter the account type (savings/current): \").lower()\n",
        "\n",
        "    if acc == \"savings\":\n",
        "        s = SavingsAccount(balance)\n",
        "        print(s.calculate_interest())\n",
        "    elif acc == \"current\":\n",
        "        c = CurrentAccount(balance)\n",
        "        print(c.calculate_interest())\n",
        "    else:\n",
        "        print(\"Invalid account type.\")"
      ],
      "metadata": {
        "colab": {
          "base_uri": "https://localhost:8080/"
        },
        "id": "I-jvAwRaNYfn",
        "outputId": "a8dd4066-b212-4a18-b0ef-15975856d0e3"
      },
      "execution_count": 3,
      "outputs": [
        {
          "output_type": "stream",
          "name": "stdout",
          "text": [
            "Enter the balance: 300000\n",
            "Enter the account type (savings/current): savings\n",
            "Enter the rate of interest (as percentage): 6\n",
            "Enter the time (in years): 5\n",
            "Savings Account Interest: 90000.0\n"
          ]
        }
      ]
    },
    {
      "cell_type": "markdown",
      "source": [
        "## MATRIX"
      ],
      "metadata": {
        "id": "zxq6FNy0U0_A"
      }
    },
    {
      "cell_type": "code",
      "source": [
        "import numpy as np\n",
        "\n",
        "if __name__==\"__main__\":\n",
        "    a1=np.array([[13,5,6],[4,8,2],[23,54,78]])\n",
        "    a2=np.array([[1,8,64],[5,83,32],[3,4,8]])\n",
        "\n",
        "    print(\"array1: \",\"\\n\", a1)\n",
        "    print(\"\\n\")\n",
        "    print(\"array2: \",\"\\n\", a2)\n",
        "    print(\"\\n\")\n",
        "    print(\"Addition: \",\"\\n\", a1+a2)\n",
        "    print(\"\\n\")\n",
        "    print(\"Subtraction: \",\"\\n\", a1-a2)\n",
        "    print(\"\\n\")\n",
        "    print(\"Multiplication: \",\"\\n\", a1*a2)"
      ],
      "metadata": {
        "colab": {
          "base_uri": "https://localhost:8080/"
        },
        "id": "mqxq6INfSIR-",
        "outputId": "2b64ca93-05b4-4711-9608-37b498c9d4cf"
      },
      "execution_count": 1,
      "outputs": [
        {
          "output_type": "stream",
          "name": "stdout",
          "text": [
            "array1:  \n",
            " [[13  5  6]\n",
            " [ 4  8  2]\n",
            " [23 54 78]]\n",
            "\n",
            "\n",
            "array2:  \n",
            " [[ 1  8 64]\n",
            " [ 5 83 32]\n",
            " [ 3  4  8]]\n",
            "\n",
            "\n",
            "Addition:  \n",
            " [[14 13 70]\n",
            " [ 9 91 34]\n",
            " [26 58 86]]\n",
            "\n",
            "\n",
            "Subtraction:  \n",
            " [[ 12  -3 -58]\n",
            " [ -1 -75 -30]\n",
            " [ 20  50  70]]\n",
            "\n",
            "\n",
            "Multiplication:  \n",
            " [[ 13  40 384]\n",
            " [ 20 664  64]\n",
            " [ 69 216 624]]\n"
          ]
        }
      ]
    },
    {
      "cell_type": "code",
      "source": [],
      "metadata": {
        "id": "BzLFQ4kkSsYH"
      },
      "execution_count": null,
      "outputs": []
    }
  ]
}